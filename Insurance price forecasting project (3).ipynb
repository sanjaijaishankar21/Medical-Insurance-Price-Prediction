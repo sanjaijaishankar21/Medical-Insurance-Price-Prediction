{
 "cells": [
  {
   "cell_type": "code",
   "execution_count": 2,
   "id": "2805673a-c107-464b-b70a-f1ddbf240c6a",
   "metadata": {},
   "outputs": [],
   "source": [
    "#import the libraries\n",
    "import numpy as np\n",
    "import pandas as pd\n",
    "import matplotlib.pyplot as plt\n",
    "import seaborn as sns"
   ]
  },
  {
   "cell_type": "code",
   "execution_count": 3,
   "id": "d00624ca-7dce-40a9-b2f9-670a4dbbb24d",
   "metadata": {},
   "outputs": [
    {
     "data": {
      "text/html": [
       "<div>\n",
       "<style scoped>\n",
       "    .dataframe tbody tr th:only-of-type {\n",
       "        vertical-align: middle;\n",
       "    }\n",
       "\n",
       "    .dataframe tbody tr th {\n",
       "        vertical-align: top;\n",
       "    }\n",
       "\n",
       "    .dataframe thead th {\n",
       "        text-align: right;\n",
       "    }\n",
       "</style>\n",
       "<table border=\"1\" class=\"dataframe\">\n",
       "  <thead>\n",
       "    <tr style=\"text-align: right;\">\n",
       "      <th></th>\n",
       "      <th>age</th>\n",
       "      <th>sex</th>\n",
       "      <th>bmi</th>\n",
       "      <th>children</th>\n",
       "      <th>smoker</th>\n",
       "      <th>region</th>\n",
       "      <th>charges</th>\n",
       "    </tr>\n",
       "  </thead>\n",
       "  <tbody>\n",
       "    <tr>\n",
       "      <th>0</th>\n",
       "      <td>19</td>\n",
       "      <td>female</td>\n",
       "      <td>27.900</td>\n",
       "      <td>0</td>\n",
       "      <td>yes</td>\n",
       "      <td>southwest</td>\n",
       "      <td>16884.92400</td>\n",
       "    </tr>\n",
       "    <tr>\n",
       "      <th>1</th>\n",
       "      <td>18</td>\n",
       "      <td>male</td>\n",
       "      <td>33.770</td>\n",
       "      <td>1</td>\n",
       "      <td>no</td>\n",
       "      <td>southeast</td>\n",
       "      <td>1725.55230</td>\n",
       "    </tr>\n",
       "    <tr>\n",
       "      <th>2</th>\n",
       "      <td>28</td>\n",
       "      <td>male</td>\n",
       "      <td>33.000</td>\n",
       "      <td>3</td>\n",
       "      <td>no</td>\n",
       "      <td>southeast</td>\n",
       "      <td>4449.46200</td>\n",
       "    </tr>\n",
       "    <tr>\n",
       "      <th>3</th>\n",
       "      <td>33</td>\n",
       "      <td>male</td>\n",
       "      <td>22.705</td>\n",
       "      <td>0</td>\n",
       "      <td>no</td>\n",
       "      <td>northwest</td>\n",
       "      <td>21984.47061</td>\n",
       "    </tr>\n",
       "    <tr>\n",
       "      <th>4</th>\n",
       "      <td>32</td>\n",
       "      <td>male</td>\n",
       "      <td>28.880</td>\n",
       "      <td>0</td>\n",
       "      <td>no</td>\n",
       "      <td>northwest</td>\n",
       "      <td>3866.85520</td>\n",
       "    </tr>\n",
       "    <tr>\n",
       "      <th>...</th>\n",
       "      <td>...</td>\n",
       "      <td>...</td>\n",
       "      <td>...</td>\n",
       "      <td>...</td>\n",
       "      <td>...</td>\n",
       "      <td>...</td>\n",
       "      <td>...</td>\n",
       "    </tr>\n",
       "    <tr>\n",
       "      <th>2767</th>\n",
       "      <td>47</td>\n",
       "      <td>female</td>\n",
       "      <td>45.320</td>\n",
       "      <td>1</td>\n",
       "      <td>no</td>\n",
       "      <td>southeast</td>\n",
       "      <td>8569.86180</td>\n",
       "    </tr>\n",
       "    <tr>\n",
       "      <th>2768</th>\n",
       "      <td>21</td>\n",
       "      <td>female</td>\n",
       "      <td>34.600</td>\n",
       "      <td>0</td>\n",
       "      <td>no</td>\n",
       "      <td>southwest</td>\n",
       "      <td>2020.17700</td>\n",
       "    </tr>\n",
       "    <tr>\n",
       "      <th>2769</th>\n",
       "      <td>19</td>\n",
       "      <td>male</td>\n",
       "      <td>26.030</td>\n",
       "      <td>1</td>\n",
       "      <td>yes</td>\n",
       "      <td>northwest</td>\n",
       "      <td>16450.89470</td>\n",
       "    </tr>\n",
       "    <tr>\n",
       "      <th>2770</th>\n",
       "      <td>23</td>\n",
       "      <td>male</td>\n",
       "      <td>18.715</td>\n",
       "      <td>0</td>\n",
       "      <td>no</td>\n",
       "      <td>northwest</td>\n",
       "      <td>21595.38229</td>\n",
       "    </tr>\n",
       "    <tr>\n",
       "      <th>2771</th>\n",
       "      <td>54</td>\n",
       "      <td>male</td>\n",
       "      <td>31.600</td>\n",
       "      <td>0</td>\n",
       "      <td>no</td>\n",
       "      <td>southwest</td>\n",
       "      <td>9850.43200</td>\n",
       "    </tr>\n",
       "  </tbody>\n",
       "</table>\n",
       "<p>2772 rows × 7 columns</p>\n",
       "</div>"
      ],
      "text/plain": [
       "      age     sex     bmi  children smoker     region      charges\n",
       "0      19  female  27.900         0    yes  southwest  16884.92400\n",
       "1      18    male  33.770         1     no  southeast   1725.55230\n",
       "2      28    male  33.000         3     no  southeast   4449.46200\n",
       "3      33    male  22.705         0     no  northwest  21984.47061\n",
       "4      32    male  28.880         0     no  northwest   3866.85520\n",
       "...   ...     ...     ...       ...    ...        ...          ...\n",
       "2767   47  female  45.320         1     no  southeast   8569.86180\n",
       "2768   21  female  34.600         0     no  southwest   2020.17700\n",
       "2769   19    male  26.030         1    yes  northwest  16450.89470\n",
       "2770   23    male  18.715         0     no  northwest  21595.38229\n",
       "2771   54    male  31.600         0     no  southwest   9850.43200\n",
       "\n",
       "[2772 rows x 7 columns]"
      ]
     },
     "execution_count": 3,
     "metadata": {},
     "output_type": "execute_result"
    }
   ],
   "source": [
    "#loading the dataset (downloaded the dataset from kaggle.com)\n",
    "df = pd.read_csv('Medical_insurance.csv')\n",
    "df"
   ]
  },
  {
   "cell_type": "code",
   "execution_count": 4,
   "id": "7ef33d75-0f1f-49ae-a38d-127eb39e5d10",
   "metadata": {},
   "outputs": [
    {
     "name": "stdout",
     "output_type": "stream",
     "text": [
      "<class 'pandas.core.frame.DataFrame'>\n",
      "RangeIndex: 2772 entries, 0 to 2771\n",
      "Data columns (total 7 columns):\n",
      " #   Column    Non-Null Count  Dtype  \n",
      "---  ------    --------------  -----  \n",
      " 0   age       2772 non-null   int64  \n",
      " 1   sex       2772 non-null   object \n",
      " 2   bmi       2772 non-null   float64\n",
      " 3   children  2772 non-null   int64  \n",
      " 4   smoker    2772 non-null   object \n",
      " 5   region    2772 non-null   object \n",
      " 6   charges   2772 non-null   float64\n",
      "dtypes: float64(2), int64(2), object(3)\n",
      "memory usage: 151.7+ KB\n"
     ]
    }
   ],
   "source": [
    "df.info() "
   ]
  },
  {
   "cell_type": "code",
   "execution_count": 5,
   "id": "706a448b-f31d-4b44-9213-4979988bfe53",
   "metadata": {},
   "outputs": [
    {
     "data": {
      "text/plain": [
       "age         0\n",
       "sex         0\n",
       "bmi         0\n",
       "children    0\n",
       "smoker      0\n",
       "region      0\n",
       "charges     0\n",
       "dtype: int64"
      ]
     },
     "execution_count": 5,
     "metadata": {},
     "output_type": "execute_result"
    }
   ],
   "source": [
    "df.isnull().sum()"
   ]
  },
  {
   "cell_type": "code",
   "execution_count": null,
   "id": "ec18a4b2-6132-4d63-9968-0da8b6d8cd2d",
   "metadata": {},
   "outputs": [],
   "source": [
    "#There is no null values."
   ]
  },
  {
   "cell_type": "code",
   "execution_count": 6,
   "id": "8ab7fd19-b06e-49b7-9a7e-096803b115ce",
   "metadata": {},
   "outputs": [
    {
     "data": {
      "text/plain": [
       "(2772, 7)"
      ]
     },
     "execution_count": 6,
     "metadata": {},
     "output_type": "execute_result"
    }
   ],
   "source": [
    "#To find the shape\n",
    "df.shape"
   ]
  },
  {
   "cell_type": "code",
   "execution_count": 7,
   "id": "c329e057-0ca8-4627-b3bb-850779c885be",
   "metadata": {},
   "outputs": [
    {
     "data": {
      "text/html": [
       "<div>\n",
       "<style scoped>\n",
       "    .dataframe tbody tr th:only-of-type {\n",
       "        vertical-align: middle;\n",
       "    }\n",
       "\n",
       "    .dataframe tbody tr th {\n",
       "        vertical-align: top;\n",
       "    }\n",
       "\n",
       "    .dataframe thead th {\n",
       "        text-align: right;\n",
       "    }\n",
       "</style>\n",
       "<table border=\"1\" class=\"dataframe\">\n",
       "  <thead>\n",
       "    <tr style=\"text-align: right;\">\n",
       "      <th></th>\n",
       "      <th>age</th>\n",
       "      <th>bmi</th>\n",
       "      <th>children</th>\n",
       "      <th>charges</th>\n",
       "    </tr>\n",
       "  </thead>\n",
       "  <tbody>\n",
       "    <tr>\n",
       "      <th>count</th>\n",
       "      <td>2772.000000</td>\n",
       "      <td>2772.000000</td>\n",
       "      <td>2772.000000</td>\n",
       "      <td>2772.000000</td>\n",
       "    </tr>\n",
       "    <tr>\n",
       "      <th>mean</th>\n",
       "      <td>39.109668</td>\n",
       "      <td>30.701349</td>\n",
       "      <td>1.101732</td>\n",
       "      <td>13261.369959</td>\n",
       "    </tr>\n",
       "    <tr>\n",
       "      <th>std</th>\n",
       "      <td>14.081459</td>\n",
       "      <td>6.129449</td>\n",
       "      <td>1.214806</td>\n",
       "      <td>12151.768945</td>\n",
       "    </tr>\n",
       "    <tr>\n",
       "      <th>min</th>\n",
       "      <td>18.000000</td>\n",
       "      <td>15.960000</td>\n",
       "      <td>0.000000</td>\n",
       "      <td>1121.873900</td>\n",
       "    </tr>\n",
       "    <tr>\n",
       "      <th>25%</th>\n",
       "      <td>26.000000</td>\n",
       "      <td>26.220000</td>\n",
       "      <td>0.000000</td>\n",
       "      <td>4687.797000</td>\n",
       "    </tr>\n",
       "    <tr>\n",
       "      <th>50%</th>\n",
       "      <td>39.000000</td>\n",
       "      <td>30.447500</td>\n",
       "      <td>1.000000</td>\n",
       "      <td>9333.014350</td>\n",
       "    </tr>\n",
       "    <tr>\n",
       "      <th>75%</th>\n",
       "      <td>51.000000</td>\n",
       "      <td>34.770000</td>\n",
       "      <td>2.000000</td>\n",
       "      <td>16577.779500</td>\n",
       "    </tr>\n",
       "    <tr>\n",
       "      <th>max</th>\n",
       "      <td>64.000000</td>\n",
       "      <td>53.130000</td>\n",
       "      <td>5.000000</td>\n",
       "      <td>63770.428010</td>\n",
       "    </tr>\n",
       "  </tbody>\n",
       "</table>\n",
       "</div>"
      ],
      "text/plain": [
       "               age          bmi     children       charges\n",
       "count  2772.000000  2772.000000  2772.000000   2772.000000\n",
       "mean     39.109668    30.701349     1.101732  13261.369959\n",
       "std      14.081459     6.129449     1.214806  12151.768945\n",
       "min      18.000000    15.960000     0.000000   1121.873900\n",
       "25%      26.000000    26.220000     0.000000   4687.797000\n",
       "50%      39.000000    30.447500     1.000000   9333.014350\n",
       "75%      51.000000    34.770000     2.000000  16577.779500\n",
       "max      64.000000    53.130000     5.000000  63770.428010"
      ]
     },
     "execution_count": 7,
     "metadata": {},
     "output_type": "execute_result"
    }
   ],
   "source": [
    "df.describe()"
   ]
  },
  {
   "cell_type": "code",
   "execution_count": 9,
   "id": "713ae7b7-4e55-4de9-8be7-1e1b3f896c94",
   "metadata": {},
   "outputs": [
    {
     "name": "stderr",
     "output_type": "stream",
     "text": [
      "C:\\Users\\Acer\\AppData\\Local\\Temp\\ipykernel_1584\\3489809280.py:2: FutureWarning: The default value of numeric_only in DataFrame.corr is deprecated. In a future version, it will default to False. Select only valid columns or specify the value of numeric_only to silence this warning.\n",
      "  df.corr()\n"
     ]
    },
    {
     "data": {
      "text/html": [
       "<div>\n",
       "<style scoped>\n",
       "    .dataframe tbody tr th:only-of-type {\n",
       "        vertical-align: middle;\n",
       "    }\n",
       "\n",
       "    .dataframe tbody tr th {\n",
       "        vertical-align: top;\n",
       "    }\n",
       "\n",
       "    .dataframe thead th {\n",
       "        text-align: right;\n",
       "    }\n",
       "</style>\n",
       "<table border=\"1\" class=\"dataframe\">\n",
       "  <thead>\n",
       "    <tr style=\"text-align: right;\">\n",
       "      <th></th>\n",
       "      <th>age</th>\n",
       "      <th>bmi</th>\n",
       "      <th>children</th>\n",
       "      <th>charges</th>\n",
       "    </tr>\n",
       "  </thead>\n",
       "  <tbody>\n",
       "    <tr>\n",
       "      <th>age</th>\n",
       "      <td>1.000000</td>\n",
       "      <td>0.113048</td>\n",
       "      <td>0.037574</td>\n",
       "      <td>0.298624</td>\n",
       "    </tr>\n",
       "    <tr>\n",
       "      <th>bmi</th>\n",
       "      <td>0.113048</td>\n",
       "      <td>1.000000</td>\n",
       "      <td>-0.001492</td>\n",
       "      <td>0.199846</td>\n",
       "    </tr>\n",
       "    <tr>\n",
       "      <th>children</th>\n",
       "      <td>0.037574</td>\n",
       "      <td>-0.001492</td>\n",
       "      <td>1.000000</td>\n",
       "      <td>0.066442</td>\n",
       "    </tr>\n",
       "    <tr>\n",
       "      <th>charges</th>\n",
       "      <td>0.298624</td>\n",
       "      <td>0.199846</td>\n",
       "      <td>0.066442</td>\n",
       "      <td>1.000000</td>\n",
       "    </tr>\n",
       "  </tbody>\n",
       "</table>\n",
       "</div>"
      ],
      "text/plain": [
       "               age       bmi  children   charges\n",
       "age       1.000000  0.113048  0.037574  0.298624\n",
       "bmi       0.113048  1.000000 -0.001492  0.199846\n",
       "children  0.037574 -0.001492  1.000000  0.066442\n",
       "charges   0.298624  0.199846  0.066442  1.000000"
      ]
     },
     "execution_count": 9,
     "metadata": {},
     "output_type": "execute_result"
    }
   ],
   "source": [
    "#To find the correlation.\n",
    "df.corr()"
   ]
  },
  {
   "cell_type": "code",
   "execution_count": 11,
   "id": "83ba0853-425f-42fe-878e-3bfb6cb7360f",
   "metadata": {},
   "outputs": [
    {
     "name": "stderr",
     "output_type": "stream",
     "text": [
      "C:\\Users\\Acer\\AppData\\Local\\Temp\\ipykernel_1584\\2744789434.py:2: FutureWarning: The default value of numeric_only in DataFrame.corr is deprecated. In a future version, it will default to False. Select only valid columns or specify the value of numeric_only to silence this warning.\n",
      "  sns.heatmap(df.corr(),annot=True)\n"
     ]
    },
    {
     "data": {
      "text/plain": [
       "<Axes: >"
      ]
     },
     "execution_count": 11,
     "metadata": {},
     "output_type": "execute_result"
    },
    {
     "data": {
      "image/png": "[encoded data removed]",
      "text/plain": [
       "<Figure size 640x480 with 2 Axes>"
      ]
     },
     "metadata": {},
     "output_type": "display_data"
    }
   ],
   "source": [
    "#To plot the correlation\n",
    "sns.heatmap(df.corr(),annot=True)"
   ]
  },
  {
   "cell_type": "code",
   "execution_count": 12,
   "id": "bfa2756f-0336-4100-b412-5c5a01143f64",
   "metadata": {},
   "outputs": [
    {
     "data": {
      "image/png": "[encoded data removed]",
      "text/plain": [
       "<Figure size 640x480 with 1 Axes>"
      ]
     },
     "metadata": {},
     "output_type": "display_data"
    }
   ],
   "source": [
    "#Exploratory Data Analysis\n",
    "#Univariate\n",
    "#Gender Distribution\n",
    "sns.countplot(x = 'sex', data=df)\n",
    "plt.title('Gender Distribution')\n",
    "plt.show()"
   ]
  },
  {
   "cell_type": "code",
   "execution_count": 13,
   "id": "369b7d75-0aa0-4fed-a72d-0f4d01e309c7",
   "metadata": {},
   "outputs": [
    {
     "data": {
      "image/png": "[encoded data removed]",
      "text/plain": [
       "<Figure size 640x480 with 1 Axes>"
      ]
     },
     "metadata": {},
     "output_type": "display_data"
    }
   ],
   "source": [
    "#Smoker Distribution\n",
    "sns.countplot(x = 'smoker', data=df)\n",
    "plt.title('smoker Distribution')\n",
    "plt.show()"
   ]
  },
  {
   "cell_type": "code",
   "execution_count": 14,
   "id": "e4239974-4f42-4a50-9502-c11129680d74",
   "metadata": {},
   "outputs": [
    {
     "data": {
      "image/png": "[encoded data removed]",
      "text/plain": [
       "<Figure size 640x480 with 1 Axes>"
      ]
     },
     "metadata": {},
     "output_type": "display_data"
    }
   ],
   "source": [
    "#Region Distribution\n",
    "sns.countplot(x = 'region', data=df)\n",
    "plt.title('Region Distribution')\n",
    "plt.show()"
   ]
  },
  {
   "cell_type": "code",
   "execution_count": 16,
   "id": "caf2c9f3-9b06-4f99-be1a-3ff5d3da53b2",
   "metadata": {},
   "outputs": [
    {
     "name": "stderr",
     "output_type": "stream",
     "text": [
      "C:\\Users\\Acer\\AppData\\Local\\Temp\\ipykernel_1584\\1472938198.py:2: UserWarning: \n",
      "\n",
      "`distplot` is a deprecated function and will be removed in seaborn v0.14.0.\n",
      "\n",
      "Please adapt your code to use either `displot` (a figure-level function with\n",
      "similar flexibility) or `histplot` (an axes-level function for histograms).\n",
      "\n",
      "For a guide to updating your code to use the new functions, please see\n",
      "https://gist.github.com/mwaskom/de44147ed2974457ad6372750bbe5751\n",
      "\n",
      "  sns.distplot(df['age'])\n"
     ]
    },
    {
     "data": {
      "text/plain": [
       "<Axes: xlabel='age', ylabel='Density'>"
      ]
     },
     "execution_count": 16,
     "metadata": {},
     "output_type": "execute_result"
    },
    {
     "data": {
      "image/png": "[encoded data removed]",
      "text/plain": [
       "<Figure size 640x480 with 1 Axes>"
      ]
     },
     "metadata": {},
     "output_type": "display_data"
    }
   ],
   "source": [
    "#Distribution of age\n",
    "sns.distplot(df['age'])"
   ]
  },
  {
   "cell_type": "code",
   "execution_count": 17,
   "id": "a9f64aff-8319-49f1-8f46-f3b8b9590846",
   "metadata": {},
   "outputs": [
    {
     "name": "stderr",
     "output_type": "stream",
     "text": [
      "C:\\Users\\Acer\\AppData\\Local\\Temp\\ipykernel_1584\\4007834958.py:2: UserWarning: \n",
      "\n",
      "`distplot` is a deprecated function and will be removed in seaborn v0.14.0.\n",
      "\n",
      "Please adapt your code to use either `displot` (a figure-level function with\n",
      "similar flexibility) or `histplot` (an axes-level function for histograms).\n",
      "\n",
      "For a guide to updating your code to use the new functions, please see\n",
      "https://gist.github.com/mwaskom/de44147ed2974457ad6372750bbe5751\n",
      "\n",
      "  sns.distplot(df['bmi'])\n"
     ]
    },
    {
     "data": {
      "text/plain": [
       "<Axes: xlabel='bmi', ylabel='Density'>"
      ]
     },
     "execution_count": 17,
     "metadata": {},
     "output_type": "execute_result"
    },
    {
     "data": {
      "image/png": "[encoded data removed]",
      "text/plain": [
       "<Figure size 640x480 with 1 Axes>"
      ]
     },
     "metadata": {},
     "output_type": "display_data"
    }
   ],
   "source": [
    "#Distribution of age\n",
    "sns.distplot(df['bmi'])"
   ]
  },
  {
   "cell_type": "code",
   "execution_count": 19,
   "id": "02125f21-5501-4fb2-89d0-79e2f49ad74d",
   "metadata": {},
   "outputs": [
    {
     "name": "stderr",
     "output_type": "stream",
     "text": [
      "C:\\Users\\Acer\\AppData\\Local\\Temp\\ipykernel_1584\\973992115.py:2: UserWarning: \n",
      "\n",
      "`distplot` is a deprecated function and will be removed in seaborn v0.14.0.\n",
      "\n",
      "Please adapt your code to use either `displot` (a figure-level function with\n",
      "similar flexibility) or `histplot` (an axes-level function for histograms).\n",
      "\n",
      "For a guide to updating your code to use the new functions, please see\n",
      "https://gist.github.com/mwaskom/de44147ed2974457ad6372750bbe5751\n",
      "\n",
      "  sns.distplot(df['charges'])\n"
     ]
    },
    {
     "data": {
      "text/plain": [
       "<Axes: xlabel='charges', ylabel='Density'>"
      ]
     },
     "execution_count": 19,
     "metadata": {},
     "output_type": "execute_result"
    },
    {
     "data": {
      "image/png": "[encoded data removed]",
      "text/plain": [
       "<Figure size 640x480 with 1 Axes>"
      ]
     },
     "metadata": {},
     "output_type": "display_data"
    }
   ],
   "source": [
    "#Distribution of charges\n",
    "sns.distplot(df['charges'])"
   ]
  },
  {
   "cell_type": "code",
   "execution_count": 20,
   "id": "b3e737cc-52d5-41c1-93e2-5b5c311f7468",
   "metadata": {},
   "outputs": [
    {
     "data": {
      "text/html": [
       "<div>\n",
       "<style scoped>\n",
       "    .dataframe tbody tr th:only-of-type {\n",
       "        vertical-align: middle;\n",
       "    }\n",
       "\n",
       "    .dataframe tbody tr th {\n",
       "        vertical-align: top;\n",
       "    }\n",
       "\n",
       "    .dataframe thead th {\n",
       "        text-align: right;\n",
       "    }\n",
       "</style>\n",
       "<table border=\"1\" class=\"dataframe\">\n",
       "  <thead>\n",
       "    <tr style=\"text-align: right;\">\n",
       "      <th>region</th>\n",
       "      <th>northeast</th>\n",
       "      <th>northwest</th>\n",
       "      <th>southeast</th>\n",
       "      <th>southwest</th>\n",
       "    </tr>\n",
       "    <tr>\n",
       "      <th>sex</th>\n",
       "      <th></th>\n",
       "      <th></th>\n",
       "      <th></th>\n",
       "      <th></th>\n",
       "    </tr>\n",
       "  </thead>\n",
       "  <tbody>\n",
       "    <tr>\n",
       "      <th>female</th>\n",
       "      <td>324</td>\n",
       "      <td>338</td>\n",
       "      <td>364</td>\n",
       "      <td>340</td>\n",
       "    </tr>\n",
       "    <tr>\n",
       "      <th>male</th>\n",
       "      <td>334</td>\n",
       "      <td>326</td>\n",
       "      <td>402</td>\n",
       "      <td>344</td>\n",
       "    </tr>\n",
       "  </tbody>\n",
       "</table>\n",
       "</div>"
      ],
      "text/plain": [
       "region  northeast  northwest  southeast  southwest\n",
       "sex                                               \n",
       "female        324        338        364        340\n",
       "male          334        326        402        344"
      ]
     },
     "execution_count": 20,
     "metadata": {},
     "output_type": "execute_result"
    }
   ],
   "source": [
    "#Bivariate\n",
    "pd.crosstab(df['sex'],df['region'])"
   ]
  },
  {
   "cell_type": "code",
   "execution_count": 21,
   "id": "587eb0f5-de4d-46d6-beaa-9d4cc3918bc7",
   "metadata": {},
   "outputs": [
    {
     "data": {
      "text/html": [
       "<div>\n",
       "<style scoped>\n",
       "    .dataframe tbody tr th:only-of-type {\n",
       "        vertical-align: middle;\n",
       "    }\n",
       "\n",
       "    .dataframe tbody tr th {\n",
       "        vertical-align: top;\n",
       "    }\n",
       "\n",
       "    .dataframe thead th {\n",
       "        text-align: right;\n",
       "    }\n",
       "</style>\n",
       "<table border=\"1\" class=\"dataframe\">\n",
       "  <thead>\n",
       "    <tr style=\"text-align: right;\">\n",
       "      <th>smoker</th>\n",
       "      <th>no</th>\n",
       "      <th>yes</th>\n",
       "    </tr>\n",
       "    <tr>\n",
       "      <th>sex</th>\n",
       "      <th></th>\n",
       "      <th></th>\n",
       "    </tr>\n",
       "  </thead>\n",
       "  <tbody>\n",
       "    <tr>\n",
       "      <th>female</th>\n",
       "      <td>1134</td>\n",
       "      <td>232</td>\n",
       "    </tr>\n",
       "    <tr>\n",
       "      <th>male</th>\n",
       "      <td>1074</td>\n",
       "      <td>332</td>\n",
       "    </tr>\n",
       "  </tbody>\n",
       "</table>\n",
       "</div>"
      ],
      "text/plain": [
       "smoker    no  yes\n",
       "sex              \n",
       "female  1134  232\n",
       "male    1074  332"
      ]
     },
     "execution_count": 21,
     "metadata": {},
     "output_type": "execute_result"
    }
   ],
   "source": [
    "pd.crosstab(df['sex'],df['smoker'])"
   ]
  },
  {
   "cell_type": "code",
   "execution_count": 22,
   "id": "3683acbf-3794-4003-a3f0-c040e5065f43",
   "metadata": {},
   "outputs": [
    {
     "data": {
      "text/html": [
       "<div>\n",
       "<style scoped>\n",
       "    .dataframe tbody tr th:only-of-type {\n",
       "        vertical-align: middle;\n",
       "    }\n",
       "\n",
       "    .dataframe tbody tr th {\n",
       "        vertical-align: top;\n",
       "    }\n",
       "\n",
       "    .dataframe thead th {\n",
       "        text-align: right;\n",
       "    }\n",
       "</style>\n",
       "<table border=\"1\" class=\"dataframe\">\n",
       "  <thead>\n",
       "    <tr style=\"text-align: right;\">\n",
       "      <th>region</th>\n",
       "      <th>northeast</th>\n",
       "      <th>northwest</th>\n",
       "      <th>southeast</th>\n",
       "      <th>southwest</th>\n",
       "    </tr>\n",
       "    <tr>\n",
       "      <th>smoker</th>\n",
       "      <th></th>\n",
       "      <th></th>\n",
       "      <th></th>\n",
       "      <th></th>\n",
       "    </tr>\n",
       "  </thead>\n",
       "  <tbody>\n",
       "    <tr>\n",
       "      <th>no</th>\n",
       "      <td>522</td>\n",
       "      <td>546</td>\n",
       "      <td>574</td>\n",
       "      <td>566</td>\n",
       "    </tr>\n",
       "    <tr>\n",
       "      <th>yes</th>\n",
       "      <td>136</td>\n",
       "      <td>118</td>\n",
       "      <td>192</td>\n",
       "      <td>118</td>\n",
       "    </tr>\n",
       "  </tbody>\n",
       "</table>\n",
       "</div>"
      ],
      "text/plain": [
       "region  northeast  northwest  southeast  southwest\n",
       "smoker                                            \n",
       "no            522        546        574        566\n",
       "yes           136        118        192        118"
      ]
     },
     "execution_count": 22,
     "metadata": {},
     "output_type": "execute_result"
    }
   ],
   "source": [
    "pd.crosstab(df['smoker'],df['region'])"
   ]
  },
  {
   "cell_type": "code",
   "execution_count": 23,
   "id": "49873ce5-1880-4816-831b-e5e60f16d652",
   "metadata": {},
   "outputs": [
    {
     "data": {
      "text/plain": [
       "543     54\n",
       "1929    54\n",
       "Name: age, dtype: int64"
      ]
     },
     "execution_count": 23,
     "metadata": {},
     "output_type": "execute_result"
    }
   ],
   "source": [
    "df.loc[df['charges']==df['charges'].max(), 'age']\n",
    "#charge is more for the age of 54"
   ]
  },
  {
   "cell_type": "code",
   "execution_count": 24,
   "id": "8b39d4be-b956-48f1-a588-0b7501385b1b",
   "metadata": {},
   "outputs": [
    {
     "data": {
      "text/plain": [
       "543     yes\n",
       "1929    yes\n",
       "Name: smoker, dtype: object"
      ]
     },
     "execution_count": 24,
     "metadata": {},
     "output_type": "execute_result"
    }
   ],
   "source": [
    "df.loc[df['charges']==df['charges'].max(), 'smoker']\n",
    "#charge is more for smoker"
   ]
  },
  {
   "cell_type": "code",
   "execution_count": 25,
   "id": "4503458a-3845-431e-a8ef-9a5100729e90",
   "metadata": {},
   "outputs": [],
   "source": [
    "# Separating independent variable and dependent variable\n",
    "X_New = df.iloc[:,:-1].values\n",
    "Y_New = df.iloc[:,-1].values"
   ]
  },
  {
   "cell_type": "code",
   "execution_count": 26,
   "id": "ef6472a9-7c4a-485f-8c75-b91a365e1589",
   "metadata": {},
   "outputs": [],
   "source": [
    "#Categorical Encoding\n",
    "from sklearn.preprocessing import LabelEncoder\n",
    "le = LabelEncoder()\n",
    "X_New[:,1] = le.fit_transform(df['sex']) \n",
    "X_New[:,4] = le.fit_transform(df['smoker']) \n",
    "X_New[:,5] = le.fit_transform(df['region']) "
   ]
  },
  {
   "cell_type": "code",
   "execution_count": 27,
   "id": "879a1276-2172-4a3d-ac26-f2e0473ed8ff",
   "metadata": {},
   "outputs": [
    {
     "data": {
      "text/plain": [
       "array([[19, 0, 27.9, 0, 1, 3],\n",
       "       [18, 1, 33.77, 1, 0, 2],\n",
       "       [28, 1, 33.0, 3, 0, 2],\n",
       "       ...,\n",
       "       [19, 1, 26.03, 1, 1, 1],\n",
       "       [23, 1, 18.715, 0, 0, 1],\n",
       "       [54, 1, 31.6, 0, 0, 3]], dtype=object)"
      ]
     },
     "execution_count": 27,
     "metadata": {},
     "output_type": "execute_result"
    }
   ],
   "source": [
    "X_New"
   ]
  },
  {
   "cell_type": "code",
   "execution_count": 28,
   "id": "5e722df2-d4bc-4c61-a9c2-560cf0467825",
   "metadata": {},
   "outputs": [],
   "source": [
    "#feature scaling\n",
    "from sklearn.preprocessing import MinMaxScaler\n",
    "mns = MinMaxScaler()\n",
    "X_New = mns.fit_transform(X_New)"
   ]
  },
  {
   "cell_type": "code",
   "execution_count": 29,
   "id": "ba0861c4-0556-44af-a06e-3998ffe3ce42",
   "metadata": {},
   "outputs": [],
   "source": [
    "#separating training and testing data\n",
    "from sklearn.model_selection import train_test_split\n",
    "X_train,X_test,Y_train,Y_test = train_test_split(X_New,Y_New,test_size=0.2)"
   ]
  },
  {
   "cell_type": "code",
   "execution_count": 30,
   "id": "6380dd1b-65d2-4971-b7bd-b2f534823d8e",
   "metadata": {},
   "outputs": [
    {
     "name": "stdout",
     "output_type": "stream",
     "text": [
      "(2217, 6)\n",
      "(2217,)\n",
      "(555, 6)\n",
      "(555,)\n"
     ]
    }
   ],
   "source": [
    "print(X_train.shape)\n",
    "print(Y_train.shape)\n",
    "print(X_test.shape)\n",
    "print(Y_test.shape)"
   ]
  },
  {
   "cell_type": "code",
   "execution_count": 31,
   "id": "fcf0ce6d-690e-45a1-b070-8aa01703e7ae",
   "metadata": {},
   "outputs": [
    {
     "data": {
      "text/html": [
       "<style>#sk-container-id-1 {color: black;background-color: white;}#sk-container-id-1 pre{padding: 0;}#sk-container-id-1 div.sk-toggleable {background-color: white;}#sk-container-id-1 label.sk-toggleable__label {cursor: pointer;display: block;width: 100%;margin-bottom: 0;padding: 0.3em;box-sizing: border-box;text-align: center;}#sk-container-id-1 label.sk-toggleable__label-arrow:before {content: \"▸\";float: left;margin-right: 0.25em;color: #696969;}#sk-container-id-1 label.sk-toggleable__label-arrow:hover:before {color: black;}#sk-container-id-1 div.sk-estimator:hover label.sk-toggleable__label-arrow:before {color: black;}#sk-container-id-1 div.sk-toggleable__content {max-height: 0;max-width: 0;overflow: hidden;text-align: left;background-color: #f0f8ff;}#sk-container-id-1 div.sk-toggleable__content pre {margin: 0.2em;color: black;border-radius: 0.25em;background-color: #f0f8ff;}#sk-container-id-1 input.sk-toggleable__control:checked~div.sk-toggleable__content {max-height: 200px;max-width: 100%;overflow: auto;}#sk-container-id-1 input.sk-toggleable__control:checked~label.sk-toggleable__label-arrow:before {content: \"▾\";}#sk-container-id-1 div.sk-estimator input.sk-toggleable__control:checked~label.sk-toggleable__label {background-color: #d4ebff;}#sk-container-id-1 div.sk-label input.sk-toggleable__control:checked~label.sk-toggleable__label {background-color: #d4ebff;}#sk-container-id-1 input.sk-hidden--visually {border: 0;clip: rect(1px 1px 1px 1px);clip: rect(1px, 1px, 1px, 1px);height: 1px;margin: -1px;overflow: hidden;padding: 0;position: absolute;width: 1px;}#sk-container-id-1 div.sk-estimator {font-family: monospace;background-color: #f0f8ff;border: 1px dotted black;border-radius: 0.25em;box-sizing: border-box;margin-bottom: 0.5em;}#sk-container-id-1 div.sk-estimator:hover {background-color: #d4ebff;}#sk-container-id-1 div.sk-parallel-item::after {content: \"\";width: 100%;border-bottom: 1px solid gray;flex-grow: 1;}#sk-container-id-1 div.sk-label:hover label.sk-toggleable__label {background-color: #d4ebff;}#sk-container-id-1 div.sk-serial::before {content: \"\";position: absolute;border-left: 1px solid gray;box-sizing: border-box;top: 0;bottom: 0;left: 50%;z-index: 0;}#sk-container-id-1 div.sk-serial {display: flex;flex-direction: column;align-items: center;background-color: white;padding-right: 0.2em;padding-left: 0.2em;position: relative;}#sk-container-id-1 div.sk-item {position: relative;z-index: 1;}#sk-container-id-1 div.sk-parallel {display: flex;align-items: stretch;justify-content: center;background-color: white;position: relative;}#sk-container-id-1 div.sk-item::before, #sk-container-id-1 div.sk-parallel-item::before {content: \"\";position: absolute;border-left: 1px solid gray;box-sizing: border-box;top: 0;bottom: 0;left: 50%;z-index: -1;}#sk-container-id-1 div.sk-parallel-item {display: flex;flex-direction: column;z-index: 1;position: relative;background-color: white;}#sk-container-id-1 div.sk-parallel-item:first-child::after {align-self: flex-end;width: 50%;}#sk-container-id-1 div.sk-parallel-item:last-child::after {align-self: flex-start;width: 50%;}#sk-container-id-1 div.sk-parallel-item:only-child::after {width: 0;}#sk-container-id-1 div.sk-dashed-wrapped {border: 1px dashed gray;margin: 0 0.4em 0.5em 0.4em;box-sizing: border-box;padding-bottom: 0.4em;background-color: white;}#sk-container-id-1 div.sk-label label {font-family: monospace;font-weight: bold;display: inline-block;line-height: 1.2em;}#sk-container-id-1 div.sk-label-container {text-align: center;}#sk-container-id-1 div.sk-container {/* jupyter's `normalize.less` sets `[hidden] { display: none; }` but bootstrap.min.css set `[hidden] { display: none !important; }` so we also need the `!important` here to be able to override the default hidden behavior on the sphinx rendered scikit-learn.org. See: https://github.com/scikit-learn/scikit-learn/issues/21755 */display: inline-block !important;position: relative;}#sk-container-id-1 div.sk-text-repr-fallback {display: none;}</style><div id=\"sk-container-id-1\" class=\"sk-top-container\"><div class=\"sk-text-repr-fallback\"><pre>LinearRegression()</pre><b>In a Jupyter environment, please rerun this cell to show the HTML representation or trust the notebook. <br />On GitHub, the HTML representation is unable to render, please try loading this page with nbviewer.org.</b></div><div class=\"sk-container\" hidden><div class=\"sk-item\"><div class=\"sk-estimator sk-toggleable\"><input class=\"sk-toggleable__control sk-hidden--visually\" id=\"sk-estimator-id-1\" type=\"checkbox\" checked><label for=\"sk-estimator-id-1\" class=\"sk-toggleable__label sk-toggleable__label-arrow\">LinearRegression</label><div class=\"sk-toggleable__content\"><pre>LinearRegression()</pre></div></div></div></div></div>"
      ],
      "text/plain": [
       "LinearRegression()"
      ]
     },
     "execution_count": 31,
     "metadata": {},
     "output_type": "execute_result"
    }
   ],
   "source": [
    "#linear regression\n",
    "from sklearn.linear_model import LinearRegression\n",
    "lr = LinearRegression()\n",
    "lr.fit(X_train,Y_train)"
   ]
  },
  {
   "cell_type": "code",
   "execution_count": 32,
   "id": "c2288302-2233-4716-912b-4e4dcaaf7e9f",
   "metadata": {},
   "outputs": [
    {
     "data": {
      "text/plain": [
       "array([ 8335.75856975, 12272.75274092, 12863.85060967, 11524.13999673,\n",
       "        2062.7497271 , 18949.19957306,  6597.6829411 , 10099.42546301,\n",
       "        4036.04537121, 38978.19291027, 12421.97622698,  4502.10917772,\n",
       "        4737.49006999,  6760.06092479, 27520.18292671,   680.95448926,\n",
       "        4653.26891561, 12822.37631378,  1726.31417509, 14849.66592715,\n",
       "       12181.07930618,  1223.62388232,  6051.90963157,  5453.69662046,\n",
       "       29916.13403782, 29152.17549585, 14503.31585677, 27236.59633007,\n",
       "       37436.70262782, 26924.42468892,  7942.58232544,  4003.19896683,\n",
       "       14021.85025202, 35917.96077383, 10663.08475369,   725.50374502,\n",
       "       34491.61147672,  4982.52947593,  9446.13927629, 15851.6076023 ,\n",
       "       15498.85497453,  9135.73998524,  8147.62487549,  3692.65140932,\n",
       "       27576.40163746,  1481.61190715, 13602.11717833,   816.08285941,\n",
       "        4466.28503876,  8421.93188883, 15012.05153681, 12311.05109615,\n",
       "       28401.55440564, 13227.95048759,  5848.04241883, 35581.78168326,\n",
       "        3441.24666618, 37145.29556434, 37018.16915537,  7899.59464455,\n",
       "        4859.9105795 ,   187.05084234, 14760.08977683,  1946.79223856,\n",
       "       27242.30740181,  8326.18246454,  4540.91043702,  8100.75973164,\n",
       "       33683.03558944,  4306.44600994,  3827.7493919 , 14222.23113451,\n",
       "       30274.5855158 ,  7168.28589486,  9275.40470993, 14849.66592715,\n",
       "        8100.75973164,  8037.20982347, 13977.49194183,   327.30768332,\n",
       "        4819.27471009,  9522.11912435,   695.25941854,  9661.00374208,\n",
       "        4237.90681161, 11239.34740138,   178.39652123, 33902.07518284,\n",
       "       25440.9335696 ,  7857.32911072, 10301.73130334, 10283.21559691,\n",
       "       11440.56737127, 40884.47232647, 10183.29418076, 10847.75023879,\n",
       "        7066.15362652, 13183.17340821,  6607.76247886,  9756.22274215,\n",
       "       10298.16359066, 32393.78815782,  7423.01632276,  4252.40969819,\n",
       "        6890.62089643, 12393.55251049, 14648.71516871, 32251.48923402,\n",
       "        9142.79723771,  7078.10323931,  7867.11606118,   991.92506938,\n",
       "       30313.75077231, 10929.1614771 , 36412.07920064, 12480.31414369,\n",
       "       13363.76843235, 11733.23069739, 33613.86923952,  5113.74302877,\n",
       "       12240.70182789, 14294.91343222,  3508.63855077,  8036.3972765 ,\n",
       "       26706.71688733, 30211.69790535, 27576.40163746, 11570.74626847,\n",
       "       29886.76986605,  9098.38495443,  8822.28312483, 38568.13430981,\n",
       "        7852.94366634,  7985.31609351,  6850.83274173,  9165.7386858 ,\n",
       "       14718.62499633, 11040.38686787, 37018.16915537,  5208.50555766,\n",
       "        7078.10323931, 12982.06976442,  8858.85456529,  2229.22946903,\n",
       "       10726.15468241,  3007.7947475 ,  7430.80228279, 34002.68243556,\n",
       "       14469.1247026 ,  2603.64055719, 10481.8549053 ,  2944.70114749,\n",
       "        5415.73699718,  6026.23136293,  4668.99844728, 28846.14355316,\n",
       "       11106.70193896, 13743.63492968,  3827.7493919 ,  4073.83697352,\n",
       "        5620.53483101, 29625.42098699,  2034.70241399, 13925.07828278,\n",
       "       12460.50240583, 10722.94686931,  6447.21179811,  8462.38985641,\n",
       "        5573.17326634,  9785.96860261,  5889.42110502, 27403.97054562,\n",
       "       29241.86637831, 15329.2500071 ,  2311.89856393,  1860.33764401,\n",
       "        7745.5205048 ,  7268.16178059,  4907.41496403,  5125.40164824,\n",
       "       12566.92562824, 11308.783577  ,  7112.43045625,  3145.47655444,\n",
       "        3467.35802292, 13662.89637339, 28029.54673807,   605.98029355,\n",
       "       13181.81101914,  6116.66572309,  9653.9550953 ,   858.02716813,\n",
       "        5827.07225788,  7034.0258858 ,  3492.78237873,  5521.36026512,\n",
       "       14659.40631066,  3996.45066576, 10321.21369219,  9682.22654068,\n",
       "        5195.7607723 ,  2468.11740794, 28321.12275556,  7000.36884721,\n",
       "       36630.48524496, 10516.36186682,  1810.14392292,  2914.10884749,\n",
       "        7463.51201015,   673.5850686 , 12558.22213754, 14567.97661242,\n",
       "        7103.691316  ,  7737.82444126,  8052.99325822,  3573.87780969,\n",
       "       17584.14332142, 27511.74880324, 11608.10512307,  2242.50980815,\n",
       "        9522.11912435, 11531.20694923, 40806.06249404,  6621.8968835 ,\n",
       "       11270.21985918, 12253.89545846,  9601.34400019, 28129.65142713,\n",
       "        5462.09825724, 16382.29016237, 29023.97500835, 11116.51149524,\n",
       "         327.30768332, 11373.45436931, 26403.73219972, 15664.05712318,\n",
       "        7323.33199686,  5941.01026942, 13553.73742099,   680.95448926,\n",
       "        7392.44694737, 10300.22620524, -1332.09894532, 12200.86067981,\n",
       "       40394.14973142, 35267.34111539, 10394.52733077,  3429.50452608,\n",
       "        1775.35967274, 14351.34471464,  3634.33782483,  5571.93931407,\n",
       "       10535.97731136,  6080.56153715,  3996.45066576,  3861.26884377,\n",
       "        5840.12793625, 10177.92024702,  4362.0301919 , 35216.22606145,\n",
       "        4127.42239486, 34723.43371324,  2837.16452899,  8847.47838185,\n",
       "       10685.53092369, 11142.23287639, 14756.15173947, 14218.49018556,\n",
       "        8408.65154971, 13181.81101914,  9653.9550953 , 12009.92136958,\n",
       "        4231.73212453,  2021.64673562, 29081.92853024, 30937.06327496,\n",
       "        8992.02588145,  7655.75723269, 10760.75119656,   428.35410284,\n",
       "       10933.38755288,  3508.63855077,  5704.6501544 , 10328.90736289,\n",
       "       14760.08977683, 29782.11598666, 10160.2051093 , 37312.07490528,\n",
       "       28372.31227319,  4130.19265674,  4859.9105795 ,  6214.30352814,\n",
       "        8038.33512229,  5349.49174206,  5785.27735112,  1125.14537428,\n",
       "        4668.26535388, 10328.90736289, 11373.45436931,  9632.85890822,\n",
       "       30546.32655203, 10950.24464378,  2376.69583359,  2974.59750046,\n",
       "       27527.79209706,  8370.24071724,  9063.65558705, 11817.68759681,\n",
       "        8524.18030243, 11492.75156606,  5889.42110502,  8408.65154971,\n",
       "        9779.63524693,  7396.30103449,  2914.10884749,  9091.68156953,\n",
       "        1138.61629351, 11308.783577  , 26222.26624081,  8464.50334915,\n",
       "       11205.26269244,  5462.09825724,  8371.76270794, 15983.21349473,\n",
       "        2798.05734321,  3679.41147831,  7731.92784171,  7149.176589  ,\n",
       "        2111.06954936,  8706.16446404, 34236.94435647, 12948.11472078,\n",
       "       33467.88664241, 11570.74626847, 36819.98706484, 32102.2870786 ,\n",
       "        2511.29444044, 11483.84415607,  8244.5570606 , 32762.8951282 ,\n",
       "       26591.08221786, 33511.5471611 ,  4520.25546917, 10369.26589696,\n",
       "        9309.80203828, 12566.92562824, 26041.54917736,  2974.59750046,\n",
       "        2014.76610981, 11414.31203033,  9839.56595002,  7000.36884721,\n",
       "       13002.39445023,  8268.01140445, 15760.07830754,  9716.10794457,\n",
       "        2902.10676257,  9961.86442021, 11697.82685156, 26297.0405898 ,\n",
       "        4165.72518814, 12165.77443777, 11406.84684418, 29145.1106174 ,\n",
       "       11697.82685156,  6241.2565209 ,  7051.78440987,  5870.5765475 ,\n",
       "       10698.86548469, 32006.34880061, 10542.55931788, 30219.15214515,\n",
       "       11294.76233387, 32006.34880061,  7396.30103449, 14186.18010496,\n",
       "       30032.97996798, 39098.21163984, 29083.67071858,  4403.29578659,\n",
       "        8197.50909507,  5704.93971678,  3745.78081795,  4803.46800309,\n",
       "        1447.2120051 , 32157.35182936,  6080.56153715,  9264.40998215,\n",
       "       10950.24464378, 16356.83844391, 11370.69683237,  6718.76669227,\n",
       "        5827.07225788,  6447.21179811, 10743.41856424, 39563.75535423,\n",
       "       28452.96730886,  6609.06108398, 12029.85767376, 32087.1405133 ,\n",
       "       11531.20694923,  6672.94303118,  7093.58314042,  6053.72163587,\n",
       "       37283.0033208 ,  6890.62089643, 14266.89605544, 15759.83284464,\n",
       "       30457.66952635, 30953.1579682 , 29066.66661856, 38714.15728996,\n",
       "        5719.18627986, 38044.38598317, 10743.41856424, 14430.30912439,\n",
       "       12823.54045009,  1802.03931147, 13295.25823732,  4633.97870083,\n",
       "        9183.14051983,  8302.15819255, 30054.8024447 , 11349.92492417,\n",
       "       40987.82281883, -2018.29666557, 13849.91031902, 34491.61147672,\n",
       "        9187.78786848,  1501.31690432,  3414.8217103 , 17149.3417853 ,\n",
       "       34723.43371324,  9376.62288258, 10183.29418076, 33500.5653913 ,\n",
       "       10848.7276188 ,  7794.85761002, 38963.5362053 , 12304.04524309,\n",
       "        7887.95512589,  2027.46204437,  5333.37608366, 25233.01021481,\n",
       "         921.3782093 ,  4536.18657948,  6951.21599463, 10283.21559691,\n",
       "        2943.41752221, 12189.19031512, 12911.07611156,  9024.49745309,\n",
       "       10960.11511487, 14469.1247026 ,  9143.45241288, 15408.00664869,\n",
       "        3381.9846583 ,  8495.47622017,  8611.05379862, 13399.70366428,\n",
       "        5979.02206937,  3000.7088572 ,  7019.07130995, 31600.3475707 ,\n",
       "        5278.61282133, 34059.90236063, 14430.30912439,  3958.1704783 ,\n",
       "       32521.04536758, 10578.72157455,  5836.79492097,  7561.51399705,\n",
       "        4272.03909617, 12585.40520882, 37683.5183885 ,  3441.24666618,\n",
       "       13390.32847128, 15018.63354333, 14153.85424393, 30752.37554952,\n",
       "       10369.26589696, 35828.37822602,  2189.03784376, 11763.5693584 ,\n",
       "        5526.61885249,  9006.97929296,   921.3782093 , 10381.93242368,\n",
       "       32762.8951282 ,  6520.67229003,  9651.99751283, 10211.6161231 ,\n",
       "        3393.81369158, 12250.69814048, 30219.15214515, 35718.36571153,\n",
       "       27381.51324465, 12361.79288625, 13259.03139781,  4608.01071404,\n",
       "        3315.97649341, 11492.75156606,  8896.723975  ,  1775.35967274,\n",
       "        4409.06511369, 30752.37554952, 11323.22456905, 28804.12557962,\n",
       "        6270.95020469, 34454.17292528, 13227.95048759, 14648.71516871,\n",
       "       11063.72095101,  7205.77441476,  8162.97190176,  3958.1704783 ,\n",
       "       29979.76396162, 15114.54828246, 27520.18292671, 12311.05109615,\n",
       "       34940.70585303,  8278.38371413,  9632.85890822,  8901.92005359,\n",
       "        5620.53483101,  6760.06092479,  6727.90356654, 23560.21359227,\n",
       "        6245.70308978, 13683.1236709 , 11144.84642912, 10068.73184009,\n",
       "       11270.21985918,  1481.61190715,  7807.37088591, 10111.61689954,\n",
       "       31042.58041646, 11341.77592503,  6523.91841212, 16098.03835392,\n",
       "        4046.64500109, 14503.31585677,  4417.9043017 , 13323.45157984,\n",
       "        4497.77861615, 35279.28114277, 11691.44469178, 28321.12275556,\n",
       "        6241.2565209 ,  1038.61456629,  7323.33199686, 13522.79446296,\n",
       "       12636.92500849, 12169.09534235, 12460.50240583])"
      ]
     },
     "execution_count": 32,
     "metadata": {},
     "output_type": "execute_result"
    }
   ],
   "source": [
    "Y_pred = lr.predict(X_test)\n",
    "Y_pred"
   ]
  },
  {
   "cell_type": "code",
   "execution_count": 33,
   "id": "7f838438-cd7f-4ba5-9556-39d9962123dc",
   "metadata": {},
   "outputs": [
    {
     "data": {
      "text/plain": [
       "array([ 7421.19455, 10928.849  , 26392.26029,  5846.9176 ,  4296.2712 ,\n",
       "       15555.18875,  4889.0368 ,  9715.841  , 17626.23951, 46661.4424 ,\n",
       "       11881.9696 ,  3392.9768 , 27724.28875,  4646.759  , 16138.76205,\n",
       "        2803.69785,  5354.07465, 10807.4863 ,  2731.9122 , 11090.7178 ,\n",
       "       11658.37915,  1632.03625,  3943.5954 ,  1917.3184 , 36197.699  ,\n",
       "       36021.0112 , 36910.60803, 17043.3414 , 28868.6639 , 17942.106  ,\n",
       "        7419.4779 ,  4428.88785, 12430.95335, 42211.1382 ,  9625.92   ,\n",
       "        1704.70015, 39556.4945 , 26018.95052,  1163.4627 , 12741.16745,\n",
       "       11033.6617 ,  9095.06825,  6600.361  ,  4687.797  , 34303.1672 ,\n",
       "        1708.0014 , 11674.13   ,  2150.469  ,  3537.703  , 12404.8791 ,\n",
       "       12646.207  ,  5757.41345, 34838.873  , 13457.9608 ,  2322.6218 ,\n",
       "       27037.9141 ,  2639.0429 , 28101.33305, 46113.511  ,  7626.993  ,\n",
       "        5855.9025 , 21595.38229,  8569.8618 ,  3861.20965, 18033.9679 ,\n",
       "        8891.1395 ,  2166.732  ,  6746.7425 , 39871.7043 ,  2902.9065 ,\n",
       "        4718.20355, 27000.98473, 18767.7377 ,  3500.6123 ,  6653.7886 ,\n",
       "       11090.7178 ,  6746.7425 ,  6799.458  , 10325.206  ,  2117.33885,\n",
       "        6753.038  ,  8827.2099 ,  1704.5681 ,  8116.68   ,  5458.04645,\n",
       "       13451.122  ,  1737.376  , 39727.614  , 15518.18025,  5649.715  ,\n",
       "        4536.259  ,  8968.33   ,  9174.13565, 48549.17835,  7348.142  ,\n",
       "        8871.1517 ,  9644.2525 , 10594.2257 ,  4151.0287 ,  6986.697  ,\n",
       "       10355.641  , 22331.5668 ,  8539.671  ,  1981.5819 ,  4433.9159 ,\n",
       "       11552.904  , 14043.4767 , 21771.3423 ,  5836.5204 ,  4738.2682 ,\n",
       "        7050.642  ,  1615.7667 , 37133.8982 , 11082.5772 , 42760.5022 ,\n",
       "       12638.195  ,  9877.6077 ,  7152.6714 , 39047.285  ,  6933.24225,\n",
       "       10806.839  , 13019.16105,  2721.3208 , 24603.04837, 16577.7795 ,\n",
       "       20234.85475, 34303.1672 , 12797.20962, 36124.5737 , 10156.7832 ,\n",
       "        8604.48365, 46151.1245 ,  6067.12675,  6186.127  ,  4504.6624 ,\n",
       "        6082.405  , 12235.8392 , 10436.096  , 46113.511  ,  1759.338  ,\n",
       "        4738.2682 , 10085.846  , 12032.326  ,  4766.022  ,  6079.6715 ,\n",
       "        1877.9294 , 17128.42608, 39725.51805, 10579.711  ,  3484.331  ,\n",
       "       35160.13457,  4391.652  ,  4618.0799 ,  5152.134  ,  1631.8212 ,\n",
       "       34254.05335,  9910.35985, 11763.0009 ,  4718.20355, 23288.9284 ,\n",
       "        3659.346  , 18972.495  ,  3353.4703 , 12269.68865, 10115.00885,\n",
       "        8240.5896 ,  4349.462  ,  9566.9909 ,  3171.6149 ,  9225.2564 ,\n",
       "        4149.736  , 15820.699  , 34806.4677 , 10982.5013 ,  3594.17085,\n",
       "        1842.519  ,  4462.7218 ,  5375.038  ,  4992.3764 ,  4561.1885 ,\n",
       "        6610.1097 , 13616.3586 ,  6059.173  ,  4134.08245, 12609.88702,\n",
       "       11488.31695, 35147.52848,  2201.0971 , 27322.73386,  4074.4537 ,\n",
       "        9301.89355,  3378.91   ,  4243.59005,  8428.0693 ,  1137.4697 ,\n",
       "        5257.50795,  9504.3103 ,  3736.4647 , 10493.9458 ,  8547.6913 ,\n",
       "        5312.16985, 14426.07385, 36397.576  ,  6593.5083 , 42303.69215,\n",
       "       22192.43711,  2710.82855,  2203.47185,  3766.8838 ,  2913.569  ,\n",
       "       11840.77505, 13607.36875,  7623.518  ,  3201.24515,  3410.324  ,\n",
       "        2866.091  , 15230.32405, 17496.306  , 10338.9316 ,  2395.17155,\n",
       "        8827.2099 , 12629.1656 , 63770.42801,  4830.63   , 12233.828  ,\n",
       "       10461.9794 ,  6196.448  , 17663.1442 ,  4527.18295, 14235.072  ,\n",
       "       36219.40545, 25517.11363,  2117.33885,  6373.55735, 17748.5062 ,\n",
       "       14313.8463 ,  5012.471  ,  4357.04365,  6435.6237 ,  2803.69785,\n",
       "        5148.5526 ,  2438.0552 ,  1241.565  , 13047.33235, 48675.5177 ,\n",
       "       41949.2441 , 11150.78   ,  5116.5004 ,  2304.0022 , 10450.552  ,\n",
       "        1263.249  ,  3443.064  ,  7160.094  ,  2534.39375,  3736.4647 ,\n",
       "        2566.4707 ,  4454.40265,  7445.918  ,  3392.3652 , 40720.55105,\n",
       "        4189.1131 , 40974.1649 ,  2464.6188 ,  4673.3922 ,  8116.26885,\n",
       "       11455.28   , 12949.1554 , 11363.2832 ,  7337.748  , 27322.73386,\n",
       "        9301.89355, 10072.05505,  2362.22905,  3176.2877 , 19521.9682 ,\n",
       "       19964.7463 ,  5584.3057 ,  8211.1002 , 11454.0215 ,  2103.08   ,\n",
       "        5124.1887 ,  2721.3208 ,  1682.597  , 11326.71487,  8569.8618 ,\n",
       "       19539.243  ,  8930.93455, 52590.82939, 18310.742  ,  4719.52405,\n",
       "        5855.9025 ,  3490.5491 ,  6837.3687 ,  5003.853  ,  6272.4772 ,\n",
       "        3180.5101 ,  5615.369  , 11326.71487,  6373.55735,  5972.378  ,\n",
       "       19515.5416 ,  9222.4026 , 18955.22017,  2203.73595, 33732.6867 ,\n",
       "        8932.084  ,  7441.053  ,  9872.701  ,  6748.5912 , 11842.442  ,\n",
       "        4149.736  ,  7337.748  ,  5989.52365,  6389.37785, 21344.8467 ,\n",
       "        6338.0756 ,  2585.85065, 13616.3586 , 17468.9839 ,  8534.6718 ,\n",
       "       10704.47   ,  4527.18295,  7726.854  , 15612.19335, 22493.65964,\n",
       "        5693.4305 ,  6770.1925 ,  1837.2819 ,  4005.4225 ,  7512.267  ,\n",
       "       24106.91255,  9048.0273 , 22412.6485 , 12797.20962, 43578.9394 ,\n",
       "       21880.82   ,  2137.6536 ,  8068.185  ,  8965.79575, 22462.04375,\n",
       "       17178.6824 , 24520.264  ,  1646.4297 ,  9414.92   , 11013.7119 ,\n",
       "        6610.1097 , 17085.2676 ,  2203.73595,  2352.96845,  5438.7491 ,\n",
       "        2927.0647 ,  6593.5083 , 30166.61817, 17878.90068, 13470.86   ,\n",
       "        5428.7277 , 23082.95533,  7682.67   , 14449.8544 , 15006.57945,\n",
       "        4133.64165,  6948.7008 , 12523.6048 , 17904.52705, 14449.8544 ,\n",
       "       18804.7524 ,  5272.1758 ,  6250.435  , 24915.04626, 21223.6758 ,\n",
       "        7147.4728 , 37465.34375, 11741.726  , 21223.6758 ,  6389.37785,\n",
       "       10736.87075, 37165.1638 , 46889.2612 , 19199.944  ,  1141.4451 ,\n",
       "        7144.86265,  4441.21315,  2719.27975,  2136.88225,  2709.24395,\n",
       "       37607.5277 ,  2534.39375,  6571.02435,  9222.4026 , 11566.30055,\n",
       "        8556.907  ,  5240.765  ,  4243.59005,  4349.462  ,  8283.6807 ,\n",
       "       47462.894  , 18648.4217 ,  4751.07   , 11657.7189 , 21098.55405,\n",
       "       12629.1656 ,  4466.6214 ,  5910.944  ,  5267.81815, 44202.6536 ,\n",
       "        4433.9159 , 11436.73815, 30063.58055, 36837.467  , 36950.2567 ,\n",
       "       19040.876  , 47291.055  ,  6652.5288 , 46200.9851 ,  8283.6807 ,\n",
       "       33471.97189, 10601.63225,  1744.465  , 10825.2537 ,  1631.6683 ,\n",
       "       21232.18226, 10065.413  , 19361.9988 ,  9850.432  , 49577.6624 ,\n",
       "        1727.785  , 13462.52   , 39556.4945 ,  4762.329  ,  1253.936  ,\n",
       "       18838.70366, 13831.1152 , 40974.1649 , 10197.7722 ,  7348.142  ,\n",
       "       32787.45859,  9724.53   ,  4670.64   , 46599.1084 ,  8798.593  ,\n",
       "        8017.06115,  2974.126  ,  3062.50825, 16297.846  ,  3208.787  ,\n",
       "        4234.927  ,  4449.462  ,  8968.33   ,  1906.35825, 10141.1362 ,\n",
       "       10923.9332 ,  6358.77645, 11520.09985, 10579.711  ,  9861.025  ,\n",
       "       10977.2063 ,  2130.6759 ,  4518.82625,  8782.469  , 13937.6665 ,\n",
       "        5227.98875,  2457.21115,  2755.02095, 35069.37452,  4137.5227 ,\n",
       "       24535.69855, 33471.97189,  3070.8087 , 21978.6769 ,  4266.1658 ,\n",
       "       12890.05765,  6555.07035,  3757.8448 , 11187.6567 , 29523.1656 ,\n",
       "        2639.0429 , 13390.559  , 28287.89766, 10226.2842 , 51194.55914,\n",
       "        9414.92   , 42111.6647 ,  3077.0955 ,  6360.9936 ,  5002.7827 ,\n",
       "        8233.0975 ,  3208.787  , 32108.66282, 22462.04375,  3857.75925,\n",
       "       23563.01618,  8162.71625,  2789.0574 , 10797.3362 , 37465.34375,\n",
       "       41097.16175, 34166.273  , 13224.693  ,  6356.2707 ,  1532.4697 ,\n",
       "        1261.859  , 11842.442  ,  7640.3092 ,  2304.0022 ,  2643.2685 ,\n",
       "       51194.55914, 11165.41765, 18608.262  , 19673.33573, 39597.4072 ,\n",
       "       13457.9608 , 14043.4767 , 10214.636  ,  6311.952  ,  5245.2269 ,\n",
       "        3070.8087 , 38792.6856 , 11856.4115 , 16138.76205,  5757.41345,\n",
       "       25678.77845,  6457.8434 ,  5972.378  ,  8232.6388 ,  3659.346  ,\n",
       "        4646.759  ,  4402.233  , 20167.33603,  3292.52985, 12268.63225,\n",
       "        5662.225  ,  6551.7501 , 12233.828  ,  1708.0014 ,  5976.8311 ,\n",
       "        9447.25035, 19798.05455,  8765.249  ,  3556.9223 , 16069.08475,\n",
       "        4185.0979 , 36910.60803,  3481.868  , 11163.568  ,  2254.7967 ,\n",
       "       48885.13561, 24476.47851, 36397.576  , 18804.7524 ,  2007.945  ,\n",
       "        5012.471  , 12730.9996 ,  9634.538  , 10043.249  , 10115.00885])"
      ]
     },
     "execution_count": 33,
     "metadata": {},
     "output_type": "execute_result"
    }
   ],
   "source": [
    "Y_test"
   ]
  },
  {
   "cell_type": "code",
   "execution_count": 34,
   "id": "08a2ef37-8c92-438b-9c56-37d79c7c4ca7",
   "metadata": {},
   "outputs": [
    {
     "data": {
      "text/plain": [
       "0.7568963371487175"
      ]
     },
     "execution_count": 34,
     "metadata": {},
     "output_type": "execute_result"
    }
   ],
   "source": [
    "lr.score(X_train,Y_train)"
   ]
  },
  {
   "cell_type": "code",
   "execution_count": 35,
   "id": "e1050525-9661-472b-87c4-4346f8406748",
   "metadata": {},
   "outputs": [
    {
     "data": {
      "text/plain": [
       "0.7246734864377248"
      ]
     },
     "execution_count": 35,
     "metadata": {},
     "output_type": "execute_result"
    }
   ],
   "source": [
    "lr.score(X_test,Y_test)"
   ]
  },
  {
   "cell_type": "code",
   "execution_count": null,
   "id": "34e81c12-c803-45bd-ac96-09f0e3fb4a5a",
   "metadata": {},
   "outputs": [],
   "source": []
  },
  {
   "cell_type": "code",
   "execution_count": null,
   "id": "e0c0549c-9d44-44b6-a8bf-52e46b4e1464",
   "metadata": {},
   "outputs": [],
   "source": []
  },
  {
   "cell_type": "code",
   "execution_count": null,
   "id": "e065f4f6-4d96-4e5f-b35b-3176a712ada8",
   "metadata": {},
   "outputs": [],
   "source": []
  }
 ],
 "metadata": {
  "kernelspec": {
   "display_name": "Python 3 (ipykernel)",
   "language": "python",
   "name": "python3"
  },
  "language_info": {
   "codemirror_mode": {
    "name": "ipython",
    "version": 3
   },
   "file_extension": ".py",
   "mimetype": "text/x-python",
   "name": "python",
   "nbconvert_exporter": "python",
   "pygments_lexer": "ipython3",
   "version": "3.10.9"
  }
 },
 "nbformat": 4,
 "nbformat_minor": 5
}
